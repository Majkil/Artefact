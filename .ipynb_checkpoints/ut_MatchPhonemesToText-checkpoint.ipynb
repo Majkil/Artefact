{
 "cells": [
  {
   "cell_type": "code",
   "execution_count": 4,
   "id": "5c036138",
   "metadata": {},
   "outputs": [],
   "source": [
    "import os\n",
    "from  elasticsearch import Elasticsearch\n",
    "import json\n",
    "import re"
   ]
  },
  {
   "cell_type": "code",
   "execution_count": 5,
   "id": "ad50b096",
   "metadata": {},
   "outputs": [],
   "source": [
    "es = Elasticsearch()"
   ]
  },
  {
   "cell_type": "code",
   "execution_count": 6,
   "id": "26ed1b48",
   "metadata": {},
   "outputs": [],
   "source": [
    "index = \"ipa_dict\""
   ]
  },
  {
   "cell_type": "code",
   "execution_count": null,
   "id": "392aa096",
   "metadata": {},
   "outputs": [],
   "source": []
  },
  {
   "cell_type": "code",
   "execution_count": 3,
   "id": "bdde5097",
   "metadata": {},
   "outputs": [],
   "source": [
    "doc = {\n",
    "  \"query\": {\n",
    "    \"match\": {\n",
    "      \"phones\": query_string\n",
    "    }\n",
    "  }\n",
    "}"
   ]
  },
  {
   "cell_type": "code",
   "execution_count": 8,
   "id": "2b67add7",
   "metadata": {},
   "outputs": [],
   "source": [
    "query_string = \"hjˈuːmɐnˌɔ ɪd\""
   ]
  },
  {
   "cell_type": "code",
   "execution_count": 9,
   "id": "a06a1335",
   "metadata": {},
   "outputs": [
    {
     "data": {
      "text/plain": [
       "{'took': 1,\n",
       " 'timed_out': False,\n",
       " '_shards': {'total': 1, 'successful': 1, 'skipped': 0, 'failed': 0},\n",
       " 'hits': {'total': {'value': 0, 'relation': 'eq'},\n",
       "  'max_score': None,\n",
       "  'hits': []}}"
      ]
     },
     "execution_count": 9,
     "metadata": {},
     "output_type": "execute_result"
    }
   ],
   "source": [
    "resp = es.search(index= index, body=doc)\n",
    "resp"
   ]
  },
  {
   "cell_type": "code",
   "execution_count": null,
   "id": "382fb796",
   "metadata": {},
   "outputs": [],
   "source": []
  },
  {
   "cell_type": "code",
   "execution_count": null,
   "id": "021e5dae",
   "metadata": {},
   "outputs": [],
   "source": []
  }
 ],
 "metadata": {
  "kernelspec": {
   "display_name": "Python 3",
   "language": "python",
   "name": "python3"
  },
  "language_info": {
   "codemirror_mode": {
    "name": "ipython",
    "version": 3
   },
   "file_extension": ".py",
   "mimetype": "text/x-python",
   "name": "python",
   "nbconvert_exporter": "python",
   "pygments_lexer": "ipython3",
   "version": "3.9.2"
  }
 },
 "nbformat": 4,
 "nbformat_minor": 5
}
