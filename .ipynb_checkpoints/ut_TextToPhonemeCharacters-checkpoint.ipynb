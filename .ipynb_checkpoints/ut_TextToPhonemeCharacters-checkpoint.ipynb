{
 "cells": [
  {
   "cell_type": "code",
   "execution_count": 1,
   "id": "53a4e730",
   "metadata": {},
   "outputs": [],
   "source": [
    "import os\n",
    "from  elasticsearch import Elasticsearch\n",
    "import json\n",
    "import re"
   ]
  },
  {
   "cell_type": "code",
   "execution_count": 2,
   "id": "10a64ca4",
   "metadata": {},
   "outputs": [],
   "source": [
    "es = Elasticsearch()"
   ]
  },
  {
   "cell_type": "code",
   "execution_count": 5,
   "id": "90ccd171",
   "metadata": {},
   "outputs": [],
   "source": [
    "index = \"ipa_dict\""
   ]
  },
  {
   "cell_type": "markdown",
   "id": "344b3593",
   "metadata": {},
   "source": [
    "##example query\n",
    "{\n",
    "  \"query\": {\n",
    "    \"match\": {\n",
    "      \"word.keyword\": \"bring\"\n",
    "    }\n",
    "  }\n",
    "}\n",
    "##"
   ]
  },
  {
   "cell_type": "code",
   "execution_count": 3,
   "id": "b3fb4716",
   "metadata": {},
   "outputs": [],
   "source": [
    "query_string = \"bring\""
   ]
  },
  {
   "cell_type": "code",
   "execution_count": 4,
   "id": "efb611f0",
   "metadata": {},
   "outputs": [],
   "source": [
    "doc = {\n",
    "  \"query\": {\n",
    "    \"match\": {\n",
    "      \"word.keyword\": query_string\n",
    "    }\n",
    "  }\n",
    "}"
   ]
  },
  {
   "cell_type": "code",
   "execution_count": 7,
   "id": "a9c49ea2",
   "metadata": {},
   "outputs": [
    {
     "data": {
      "text/plain": [
       "{'took': 2,\n",
       " 'timed_out': False,\n",
       " '_shards': {'total': 1, 'successful': 1, 'skipped': 0, 'failed': 0},\n",
       " 'hits': {'total': {'value': 1, 'relation': 'eq'},\n",
       "  'max_score': 11.496029,\n",
       "  'hits': [{'_index': 'ipa_dict',\n",
       "    '_type': '_doc',\n",
       "    '_id': '2_Otn3gBE9xC8BDvBYJ8',\n",
       "    '_score': 11.496029,\n",
       "    '_source': {'word': 'bring', 'phones': [{'en_UK': 'bɹˈɪŋ'}]}}]}}"
      ]
     },
     "execution_count": 7,
     "metadata": {},
     "output_type": "execute_result"
    }
   ],
   "source": [
    "resp = es.search(index= index, body=doc)\n",
    "resp"
   ]
  },
  {
   "cell_type": "code",
   "execution_count": 14,
   "id": "3692fb05",
   "metadata": {},
   "outputs": [],
   "source": [
    "resultant_phones = resp[\"hits\"][\"hits\"][0][\"_source\"][\"phones\"]"
   ]
  },
  {
   "cell_type": "code",
   "execution_count": 15,
   "id": "61469505",
   "metadata": {},
   "outputs": [],
   "source": [
    "def get_phonemes(query_string):\n",
    "    doc = {\n",
    "      \"query\": {\n",
    "        \"match\": {\n",
    "          \"word.keyword\": query_string\n",
    "            }\n",
    "          }\n",
    "        }\n",
    "    resp = es.search(index= index, body=doc)\n",
    "    return resp[\"hits\"][\"hits\"][0][\"_source\"][\"phones\"]\n"
   ]
  },
  {
   "cell_type": "code",
   "execution_count": 18,
   "id": "921668a6",
   "metadata": {},
   "outputs": [
    {
     "data": {
      "text/plain": [
       "[{'en_UK': 'hjˈuːmɐnˌɔ\\u200dɪd'}]"
      ]
     },
     "execution_count": 18,
     "metadata": {},
     "output_type": "execute_result"
    }
   ],
   "source": [
    "#test\n",
    "get_phonemes(\"humanoid\")"
   ]
  },
  {
   "cell_type": "code",
   "execution_count": null,
   "id": "8aeb1ae4",
   "metadata": {},
   "outputs": [],
   "source": []
  },
  {
   "cell_type": "code",
   "execution_count": null,
   "id": "2c889113",
   "metadata": {},
   "outputs": [],
   "source": []
  },
  {
   "cell_type": "code",
   "execution_count": null,
   "id": "6b07fab1",
   "metadata": {},
   "outputs": [],
   "source": []
  },
  {
   "cell_type": "code",
   "execution_count": null,
   "id": "1d914c07",
   "metadata": {},
   "outputs": [],
   "source": []
  },
  {
   "cell_type": "code",
   "execution_count": null,
   "id": "53b2fba8",
   "metadata": {},
   "outputs": [],
   "source": []
  },
  {
   "cell_type": "code",
   "execution_count": null,
   "id": "49475d7d",
   "metadata": {},
   "outputs": [],
   "source": []
  },
  {
   "cell_type": "code",
   "execution_count": null,
   "id": "a597e5f5",
   "metadata": {},
   "outputs": [],
   "source": []
  },
  {
   "cell_type": "code",
   "execution_count": null,
   "id": "66c234b9",
   "metadata": {},
   "outputs": [],
   "source": []
  },
  {
   "cell_type": "code",
   "execution_count": null,
   "id": "6514c692",
   "metadata": {},
   "outputs": [],
   "source": []
  },
  {
   "cell_type": "code",
   "execution_count": null,
   "id": "818e4865",
   "metadata": {},
   "outputs": [],
   "source": []
  }
 ],
 "metadata": {
  "kernelspec": {
   "display_name": "Python 3",
   "language": "python",
   "name": "python3"
  },
  "language_info": {
   "codemirror_mode": {
    "name": "ipython",
    "version": 3
   },
   "file_extension": ".py",
   "mimetype": "text/x-python",
   "name": "python",
   "nbconvert_exporter": "python",
   "pygments_lexer": "ipython3",
   "version": "3.9.2"
  }
 },
 "nbformat": 4,
 "nbformat_minor": 5
}
