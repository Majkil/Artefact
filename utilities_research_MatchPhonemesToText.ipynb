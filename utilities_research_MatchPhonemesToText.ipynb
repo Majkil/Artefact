{
 "cells": [
  {
   "cell_type": "code",
   "execution_count": 11,
   "id": "5c036138",
   "metadata": {},
   "outputs": [],
   "source": [
    "import os\n",
    "from  elasticsearch import Elasticsearch\n",
    "import json\n",
    "import re"
   ]
  },
  {
   "cell_type": "code",
   "execution_count": 12,
   "id": "ad50b096",
   "metadata": {},
   "outputs": [],
   "source": [
    "es = Elasticsearch()"
   ]
  },
  {
   "cell_type": "code",
   "execution_count": 13,
   "id": "26ed1b48",
   "metadata": {},
   "outputs": [],
   "source": [
    "index = \"ipa_dict\""
   ]
  },
  {
   "cell_type": "code",
   "execution_count": null,
   "id": "392aa096",
   "metadata": {},
   "outputs": [],
   "source": []
  },
  {
   "cell_type": "code",
   "execution_count": 26,
   "id": "bdde5097",
   "metadata": {},
   "outputs": [],
   "source": [
    "doc={\n",
    "    \"_source\": \"{_source}\",\n",
    "      \"query\": {\n",
    "        \"dis_max\": {\n",
    "          \"tie_breaker\": 0.7,\n",
    "          \"boost\": 1.2,\n",
    "          \"queries\": [\n",
    "        {\n",
    "          \"match\": {\n",
    "            \"phones\": query_string\n",
    "          }\n",
    "        },\n",
    "        {\n",
    "          \"fuzzy\": {\n",
    "            \"phones\": {\n",
    "              \"value\": query_string\n",
    "            }\n",
    "          }\n",
    "        }\n",
    "      ]\n",
    "    }\n",
    "  }\n",
    "}"
   ]
  },
  {
   "cell_type": "code",
   "execution_count": 27,
   "id": "2b67add7",
   "metadata": {},
   "outputs": [],
   "source": [
    "query_string = \"ɐbˈɒlɪʃɪ\""
   ]
  },
  {
   "cell_type": "code",
   "execution_count": 28,
   "id": "a06a1335",
   "metadata": {
    "scrolled": false
   },
   "outputs": [
    {
     "data": {
      "text/plain": [
       "[{'_index': 'ipa_dict',\n",
       "  '_type': '_doc',\n",
       "  '_id': 'zJN-s3gBTV1wr8UB9Zwr',\n",
       "  '_score': 12.212662,\n",
       "  '_source': {}},\n",
       " {'_index': 'ipa_dict',\n",
       "  '_type': '_doc',\n",
       "  '_id': 'zpN-s3gBTV1wr8UB9Zwx',\n",
       "  '_score': 12.212662,\n",
       "  '_source': {}},\n",
       " {'_index': 'ipa_dict',\n",
       "  '_type': '_doc',\n",
       "  '_id': '0JN-s3gBTV1wr8UB9Zw2',\n",
       "  '_score': 12.212662,\n",
       "  '_source': {}},\n",
       " {'_index': 'ipa_dict',\n",
       "  '_type': '_doc',\n",
       "  '_id': 'ypN-s3gBTV1wr8UB9Zwk',\n",
       "  '_score': 11.963425,\n",
       "  '_source': {}}]"
      ]
     },
     "execution_count": 28,
     "metadata": {},
     "output_type": "execute_result"
    }
   ],
   "source": [
    "resp = es.search(index= index, body=doc)\n",
    "resp[\"hits\"][\"hits\"]"
   ]
  },
  {
   "cell_type": "code",
   "execution_count": null,
   "id": "382fb796",
   "metadata": {},
   "outputs": [],
   "source": []
  },
  {
   "cell_type": "code",
   "execution_count": null,
   "id": "021e5dae",
   "metadata": {},
   "outputs": [],
   "source": []
  }
 ],
 "metadata": {
  "kernelspec": {
   "display_name": "Python 3",
   "language": "python",
   "name": "python3"
  },
  "language_info": {
   "codemirror_mode": {
    "name": "ipython",
    "version": 3
   },
   "file_extension": ".py",
   "mimetype": "text/x-python",
   "name": "python",
   "nbconvert_exporter": "python",
   "pygments_lexer": "ipython3",
   "version": "3.9.2"
  }
 },
 "nbformat": 4,
 "nbformat_minor": 5
}
