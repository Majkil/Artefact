{
 "cells": [
  {
   "cell_type": "code",
   "execution_count": 1,
   "id": "e0ceebc1",
   "metadata": {},
   "outputs": [
    {
     "name": "stderr",
     "output_type": "stream",
     "text": [
      "C:\\Users\\nerdi\\.conda\\envs\\pyAudio\\lib\\site-packages\\torchaudio\\extension\\extension.py:13: UserWarning: torchaudio C++ extension is not available.\n",
      "  warnings.warn('torchaudio C++ extension is not available.')\n",
      "C:\\Users\\nerdi\\.conda\\envs\\pyAudio\\lib\\site-packages\\torchaudio\\backend\\utils.py:46: UserWarning: \"torchaudio.USE_SOUNDFILE_LEGACY_INTERFACE\" flag is deprecated and will be removed in 0.9.0. Please remove the use of flag.\n",
      "  warnings.warn(\n"
     ]
    },
    {
     "name": "stdout",
     "output_type": "stream",
     "text": [
      "28539\n"
     ]
    }
   ],
   "source": [
    "from utilities import *\n",
    "from preprocessing import * \n",
    "import pandas as pd\n",
    "\n",
    "lvpath =\"E:\\Datasets\\Voice\\Librivox\\dev\\LibriSpeech\\dev-clean\"\n",
    "libri_train =\"E:\\Datasets\\Voice\\LibriSpeech\"\n",
    "mcvpath =\"E:\\Datasets\\Voice\\Mozilla Common Voice\\en\\cv-corpus-6.1-2020-12-11\\en\"\n",
    "single_word = \"./samples/but bowl.wav\"\n",
    "\n",
    "from sklearn.model_selection import train_test_split\n",
    "from sklearn.preprocessing import normalize\n",
    "#import warnings\n",
    "#warnings.filterwarnings('ignore')\n",
    "from sklearn.model_selection import train_test_split\n",
    "import tensorflow as tf\n",
    "#import keras\n",
    "from tensorflow.keras.layers import LSTM, Dense, Dropout\n",
    "\n",
    "clips =fcs.get_audio_files(libri_train)\n",
    "print(len(clips))\n",
    "sr = 16000\n",
    "hop_length = int(sr/200)\n",
    "frame_length = int(hop_length*2)\n",
    "min_duration=hop_length*10\n",
    "min_voiced_duration_ms = 50 \n",
    "energy_threshold = 0.05"
   ]
  },
  {
   "cell_type": "code",
   "execution_count": 2,
   "id": "c6e25e23",
   "metadata": {},
   "outputs": [],
   "source": [
    "def padding(array, xx, yy):\n",
    "    \"\"\"\n",
    "    :param array: numpy array\n",
    "    :param xx: desired height\n",
    "    :param yy: desirex width\n",
    "    :return: padded array\n",
    "    \"\"\"\n",
    "    h = array.shape[0]\n",
    "    w = array.shape[1]\n",
    "    a = (xx - h) // 2\n",
    "    aa = xx - a - h\n",
    "    b = (yy - w) // 2\n",
    "    bb = yy - b - w\n",
    "    return np.pad(array, pad_width=((a, aa), (b, bb)), mode='constant')\n"
   ]
  },
  {
   "cell_type": "code",
   "execution_count": 3,
   "id": "41410561",
   "metadata": {},
   "outputs": [],
   "source": [
    "#file = os.open(\"clipsdump.npy\",os.O_WRONLY)\n",
    "#print(file)\n",
    "\n",
    "#os.close(file)\n",
    "#file.close"
   ]
  },
  {
   "cell_type": "code",
   "execution_count": 82,
   "id": "d0a2dd37",
   "metadata": {},
   "outputs": [],
   "source": [
    "with open(\"known_clips.npy\", 'rb') as f:\n",
    "    known_clips= np.load(f,allow_pickle=True)\n",
    "\n",
    "    #testRetreive = np.load(\"clipsdump.npy\")\n",
    "with open(\"exact.npy\", 'rb') as f:\n",
    "    exact= np.load(f,allow_pickle=True)\n",
    "with open(\"fb_raw_audio.npy\", 'rb') as f:\n",
    "    fb_raw_audio= np.load(f,allow_pickle=True)\n",
    "with open(\"fb_raw_audio_labels.npy\", 'rb') as f:\n",
    "    fb_raw_audio_labels= np.load(f,allow_pickle=True)\n",
    "\n",
    "    "
   ]
  },
  {
   "cell_type": "code",
   "execution_count": 231,
   "id": "ede02d46",
   "metadata": {},
   "outputs": [
    {
     "name": "stderr",
     "output_type": "stream",
     "text": [
      "C:\\Users\\nerdi\\.conda\\envs\\pyAudio\\lib\\site-packages\\librosa\\core\\spectrum.py:222: UserWarning: n_fft=2048 is too small for input signal of length=1870\n",
      "  warnings.warn(\n"
     ]
    },
    {
     "data": {
      "text/plain": [
       "((24,), (1870,))"
      ]
     },
     "execution_count": 231,
     "metadata": {},
     "output_type": "execute_result"
    },
    {
     "data": {
      "image/png": "[encoded data removed]",
      "text/plain": [
       "<Figure size 432x288 with 1 Axes>"
      ]
     },
     "metadata": {
      "needs_background": "light"
     },
     "output_type": "display_data"
    }
   ],
   "source": [
    "premped = librosa.effects.preemphasis(fb_raw_audio[c])\n",
    "#librosa.display.specshow(librosa.feature.mfcc(premped, n_mfcc=20))\n",
    "premph_amp = librosa.amplitude_to_db(np.abs(librosa.stft(premped)), ref=np.max, top_db=None)\n",
    "#librosa.display.specshow(premph_amp, y_axis='log', x_axis='time')\n",
    "emph_energy = librosa.feature.rms(premped, hop_length=hop_length)[0]\n",
    "signal.argrelextrema(emph_energy, np.less)\n",
    "plt.plot(emph_energy)\n",
    "emph_energy.shape , premped.shape"
   ]
  },
  {
   "cell_type": "code",
   "execution_count": 232,
   "id": "d7bade50",
   "metadata": {},
   "outputs": [
    {
     "name": "stderr",
     "output_type": "stream",
     "text": [
      "C:\\Users\\nerdi\\.conda\\envs\\pyAudio\\lib\\site-packages\\librosa\\core\\spectrum.py:222: UserWarning: n_fft=2048 is too small for input signal of length=1870\n",
      "  warnings.warn(\n"
     ]
    },
    {
     "data": {
      "text/plain": [
       "((24,), (1870,))"
      ]
     },
     "execution_count": 232,
     "metadata": {},
     "output_type": "execute_result"
    },
    {
     "data": {
      "image/png": "[encoded data removed]",
      "text/plain": [
       "<Figure size 432x288 with 1 Axes>"
      ]
     },
     "metadata": {
      "needs_background": "light"
     },
     "output_type": "display_data"
    }
   ],
   "source": [
    "#librosa.display.specshow(librosa.feature.mfcc(fb_raw_audio[c] ,n_mfcc=20))\n",
    "_amp = librosa.amplitude_to_db(np.abs(librosa.stft(fb_raw_audio[c])), ref=np.max, top_db=None)\n",
    "#librosa.display.specshow(_amp, y_axis='log', x_axis='time')\n",
    "energy = librosa.feature.rms(fb_raw_audio[c], hop_length=hop_length)[0]\n",
    "signal.argrelextrema(energy, np.less)\n",
    "plt.plot(energy)\n",
    "energy.shape, fb_raw_audio[c].shape"
   ]
  },
  {
   "cell_type": "code",
   "execution_count": 207,
   "id": "ef37502f",
   "metadata": {},
   "outputs": [
    {
     "name": "stdout",
     "output_type": "stream",
     "text": [
      "m 278 c= 140\n"
     ]
    },
    {
     "data": {
      "text/html": [
       "\n",
       "                <audio  controls=\"controls\" >\n",
       "                    <source src=\"data:audio/wav;base64,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\" type=\"audio/wav\" />\n",
       "                    Your browser does not support the audio element.\n",
       "                </audio>\n",
       "              "
      ],
      "text/plain": [
       "<IPython.lib.display.Audio object>"
      ]
     },
     "execution_count": 207,
     "metadata": {},
     "output_type": "execute_result"
    }
   ],
   "source": [
    "c+=1\n",
    "print(fb_raw_audio_labels[c] ,len(fb_raw_audio_labels), \"c=\",c)\n",
    "ipd.Audio(fb_raw_audio[c], rate= 22000)\n"
   ]
  },
  {
   "cell_type": "code",
   "execution_count": 5,
   "id": "7e1d5e7a",
   "metadata": {},
   "outputs": [
    {
     "name": "stdout",
     "output_type": "stream",
     "text": [
      "(277920,) [[  7470  11340]\n",
      " [ 11610  14040]\n",
      " [ 19170  29430]\n",
      " [ 30510  33480]\n",
      " [ 38430  39330]\n",
      " [ 40680  42750]\n",
      " [ 44640  47070]\n",
      " [ 60210  61380]\n",
      " [ 61560  63540]\n",
      " [ 63990  76320]\n",
      " [ 76590  81900]\n",
      " [ 82620  89640]\n",
      " [103860 105030]\n",
      " [107280 108360]\n",
      " [110790 117540]\n",
      " [120960 127800]\n",
      " [146070 147600]\n",
      " [154890 155880]\n",
      " [156240 167400]\n",
      " [167670 173520]\n",
      " [174150 181620]\n",
      " [191880 192870]\n",
      " [194040 202140]\n",
      " [202320 219150]\n",
      " [220050 223830]\n",
      " [224910 225810]\n",
      " [248940 263070]\n",
      " [263700 270180]\n",
      " [270990 274950]\n",
      " [275850 277560]]\n",
      "\n",
      " TAKE IT TO YOUR MASTER MADAME WILL AWAIT MY RETURN YES GO THE CONCIERGE CLOSED THE DOOR LEAVING MADAME DANGLARS IN THE STREET SHE HAD NOT LONG TO WAIT \n",
      " ['t', 'e', 'ɪ', 'k', 'ɪ', 't', 't', 'uː', 'j', 'ɔː', 'm', 'ɑː', 's', 't', 'ɐ', 'm', 'æ', 'd', 'ə', 'm', 'w', 'ɪ', 'l', 'ɐ', 'w', 'e', 'ɪ', 't', 'm', 'a', 'ɪ', 'ɹ', 'i', 't', 'ɝ', 'n', 'j', 'ɛ', 's', 'ɡ', 'ə', 'ʊ', 'ð', 'ə', 'k', 'ˌ', 'ɒ', 'n', 's', 'ɪ', 'e', 'ə', 'ʒ', 'k', 'l', 'ə', 'ʊ', 'z', 'd', 'ð', 'ə', 'd', 'ɔː', 'l', 'iː', 'v', 'ɪ', 'ŋ', 'm', 'æ', 'd', 'ə', 'm', 'd', 'ə', 'ŋ', 'ɫ', 'ɑ', 'ɹ', 'z', 'ɪ', 'n', 'ð', 'ə', 's', 't', 'ɹ', 'iː', 't', 'ʃ', 'iː', 'h', 'æ', 'd', 'n', 'ɒ', 't', 'l', 'ɒ', 'ŋ', 't', 'uː', 'w', 'e', 'ɪ', 't'] 106\n",
      "(152460,)\n",
      "[107280 108360]\n",
      "[0.00821831 0.00803402 0.00789331 ... 0.00781192 0.00822322 0.00870963] [107280 108360]\n"
     ]
    },
    {
     "data": {
      "image/png": "[encoded data removed]",
      "text/plain": [
       "<Figure size 432x288 with 1 Axes>"
      ]
     },
     "metadata": {
      "needs_background": "light"
     },
     "output_type": "display_data"
    }
   ],
   "source": [
    "sr = 18000\n",
    "hl = int(sr/200)\n",
    "fl = hl*2\n",
    "x = known_clips[101]\n",
    "\n",
    "aud ,sr= librosa.load(x, sr)\n",
    "\n",
    "transcription = load_clip_transcription(x)\n",
    "phonemes = all_phones_to_array(transcription)\n",
    "\n",
    "segments = split_into_segments(aud, hl, fl ,sr,energy_threshold=0.025, min_voiced_duration_ms=50)\n",
    "print(aud.shape, segments      )\n",
    "print(\"\\n\", transcription,\"\\n\", phonemes, len(phonemes))\n",
    "trimmed = clip_from_segments(aud, segments)\n",
    "\n",
    "c=13\n",
    "print(segments[c])\n",
    "plt.plot(aud[segments[c][0]:segments[c][1]])\n",
    "print(aud[segments[c][0]:segments[c][1]], segments[c])\n",
    "#ipd.Audio(trimmed, rate=sr)\n",
    "\n",
    "#ipd.Audio(aud, rate=sr)\n",
    "#ipd.Audio(aud[segments[c][0]-5000:segments[c][1]], rate=sr)"
   ]
  },
  {
   "cell_type": "code",
   "execution_count": 6,
   "id": "b1e72746",
   "metadata": {},
   "outputs": [
    {
     "name": "stdout",
     "output_type": "stream",
     "text": [
      "0.039397966 0.0047913613 0.21109033\n"
     ]
    },
    {
     "data": {
      "image/png": "[encoded data removed]",
      "text/plain": [
       "<Figure size 432x288 with 1 Axes>"
      ]
     },
     "metadata": {
      "needs_background": "light"
     },
     "output_type": "display_data"
    }
   ],
   "source": [
    "\n",
    "rms_e= librosa.feature.rms(np.abs(aud), hop_length=hl)[0]\n",
    "s_avg =  np.average(rms_e)\n",
    "s_mean = np.mean(rms_e)\n",
    "s_min = np.amin(rms_e)\n",
    "s_max = np.amax(rms_e)\n",
    "bins = np.array([0,s_avg])\n",
    "binned = np.digitize(rms_e,bins)\n",
    "#plt.figure(figsize=(24,16))\n",
    "plt.plot(rms_e)\n",
    "plt.axhline(y=s_mean)\n",
    "plt.axhline(y=s_avg)\n",
    "plt.axhline(y=s_min)\n",
    "plt.axhline(y=s_min+(s_max-s_min)*0.03 , c = 'y')\n",
    "print(s_avg, s_min, s_max)\n",
    "#plt.plot(np.array(binned))\n"
   ]
  },
  {
   "cell_type": "code",
   "execution_count": 7,
   "id": "57ef3f42",
   "metadata": {},
   "outputs": [
    {
     "ename": "TypeError",
     "evalue": "'builtin_function_or_method' object is not subscriptable",
     "output_type": "error",
     "traceback": [
      "\u001b[1;31m---------------------------------------------------------------------------\u001b[0m",
      "\u001b[1;31mIndexError\u001b[0m                                Traceback (most recent call last)",
      "\u001b[1;32m~\\python\\energy_split.py\u001b[0m in \u001b[0;36mSplit3\u001b[1;34m(audio, hop_length, sr, min_duration)\u001b[0m\n\u001b[0;32m    113\u001b[0m             \u001b[1;32mtry\u001b[0m\u001b[1;33m:\u001b[0m\u001b[1;33m\u001b[0m\u001b[1;33m\u001b[0m\u001b[0m\n\u001b[1;32m--> 114\u001b[1;33m                 \u001b[0mtups\u001b[0m\u001b[1;33m.\u001b[0m\u001b[0mappend\u001b[0m\u001b[1;33m(\u001b[0m\u001b[0mtups\u001b[0m\u001b[1;33m[\u001b[0m\u001b[1;33m-\u001b[0m\u001b[1;36m1\u001b[0m\u001b[1;33m]\u001b[0m\u001b[1;33m[\u001b[0m\u001b[1;36m1\u001b[0m\u001b[1;33m]\u001b[0m\u001b[1;33m,\u001b[0m \u001b[0mmins\u001b[0m\u001b[1;33m[\u001b[0m\u001b[0mi\u001b[0m\u001b[1;33m]\u001b[0m \u001b[1;33m)\u001b[0m\u001b[1;33m\u001b[0m\u001b[1;33m\u001b[0m\u001b[0m\n\u001b[0m\u001b[0;32m    115\u001b[0m             \u001b[1;32mexcept\u001b[0m\u001b[1;33m:\u001b[0m\u001b[1;33m\u001b[0m\u001b[1;33m\u001b[0m\u001b[0m\n",
      "\u001b[1;31mIndexError\u001b[0m: list index out of range",
      "\nDuring handling of the above exception, another exception occurred:\n",
      "\u001b[1;31mTypeError\u001b[0m                                 Traceback (most recent call last)",
      "\u001b[1;32m<ipython-input-7-b60d033e1ee2>\u001b[0m in \u001b[0;36m<module>\u001b[1;34m\u001b[0m\n\u001b[0;32m      6\u001b[0m     \u001b[0msec_energy\u001b[0m \u001b[1;33m=\u001b[0m \u001b[0mlibrosa\u001b[0m\u001b[1;33m.\u001b[0m\u001b[0mfeature\u001b[0m\u001b[1;33m.\u001b[0m\u001b[0mrms\u001b[0m\u001b[1;33m(\u001b[0m\u001b[0mnp\u001b[0m\u001b[1;33m.\u001b[0m\u001b[0mabs\u001b[0m\u001b[1;33m(\u001b[0m\u001b[0maud\u001b[0m\u001b[1;33m[\u001b[0m\u001b[0msegment\u001b[0m\u001b[1;33m[\u001b[0m\u001b[1;36m0\u001b[0m\u001b[1;33m]\u001b[0m\u001b[1;33m:\u001b[0m\u001b[0msegment\u001b[0m\u001b[1;33m[\u001b[0m\u001b[1;36m1\u001b[0m\u001b[1;33m]\u001b[0m\u001b[1;33m]\u001b[0m\u001b[1;33m)\u001b[0m\u001b[1;33m,\u001b[0m \u001b[0mhop_length\u001b[0m\u001b[1;33m=\u001b[0m\u001b[0mhop_length\u001b[0m\u001b[1;33m)\u001b[0m\u001b[1;33m\u001b[0m\u001b[1;33m\u001b[0m\u001b[0m\n\u001b[0;32m      7\u001b[0m     \u001b[1;31m#plt.plot(sec_energy)\u001b[0m\u001b[1;33m\u001b[0m\u001b[1;33m\u001b[0m\u001b[1;33m\u001b[0m\u001b[0m\n\u001b[1;32m----> 8\u001b[1;33m     \u001b[0msegment_boundaries\u001b[0m \u001b[1;33m=\u001b[0m \u001b[0mSplit3\u001b[0m\u001b[1;33m(\u001b[0m\u001b[0maud\u001b[0m\u001b[1;33m[\u001b[0m\u001b[0mstarting\u001b[0m\u001b[1;33m:\u001b[0m\u001b[0mending\u001b[0m\u001b[1;33m]\u001b[0m\u001b[1;33m,\u001b[0m \u001b[0mhop_length\u001b[0m\u001b[1;33m=\u001b[0m\u001b[0mhl\u001b[0m\u001b[1;33m,\u001b[0m \u001b[0msr\u001b[0m\u001b[1;33m=\u001b[0m\u001b[0msr\u001b[0m\u001b[1;33m)\u001b[0m\u001b[1;33m\u001b[0m\u001b[1;33m\u001b[0m\u001b[0m\n\u001b[0m\u001b[0;32m      9\u001b[0m \u001b[1;33m\u001b[0m\u001b[0m\n\u001b[0;32m     10\u001b[0m     \u001b[1;32mfor\u001b[0m \u001b[0mbit\u001b[0m \u001b[1;32min\u001b[0m \u001b[0msegment_boundaries\u001b[0m\u001b[1;33m:\u001b[0m\u001b[1;33m\u001b[0m\u001b[1;33m\u001b[0m\u001b[0m\n",
      "\u001b[1;32m~\\python\\energy_split.py\u001b[0m in \u001b[0;36mSplit3\u001b[1;34m(audio, hop_length, sr, min_duration)\u001b[0m\n\u001b[0;32m    114\u001b[0m                 \u001b[0mtups\u001b[0m\u001b[1;33m.\u001b[0m\u001b[0mappend\u001b[0m\u001b[1;33m(\u001b[0m\u001b[0mtups\u001b[0m\u001b[1;33m[\u001b[0m\u001b[1;33m-\u001b[0m\u001b[1;36m1\u001b[0m\u001b[1;33m]\u001b[0m\u001b[1;33m[\u001b[0m\u001b[1;36m1\u001b[0m\u001b[1;33m]\u001b[0m\u001b[1;33m,\u001b[0m \u001b[0mmins\u001b[0m\u001b[1;33m[\u001b[0m\u001b[0mi\u001b[0m\u001b[1;33m]\u001b[0m \u001b[1;33m)\u001b[0m\u001b[1;33m\u001b[0m\u001b[1;33m\u001b[0m\u001b[0m\n\u001b[0;32m    115\u001b[0m             \u001b[1;32mexcept\u001b[0m\u001b[1;33m:\u001b[0m\u001b[1;33m\u001b[0m\u001b[1;33m\u001b[0m\u001b[0m\n\u001b[1;32m--> 116\u001b[1;33m                 \u001b[1;32mif\u001b[0m \u001b[0mmin\u001b[0m\u001b[1;33m[\u001b[0m\u001b[0mi\u001b[0m\u001b[1;33m]\u001b[0m \u001b[1;33m!=\u001b[0m\u001b[1;36m0\u001b[0m \u001b[1;32mand\u001b[0m \u001b[0mmins\u001b[0m\u001b[1;33m[\u001b[0m\u001b[0mi\u001b[0m\u001b[1;33m]\u001b[0m\u001b[1;33m*\u001b[0m\u001b[0mhop_length\u001b[0m\u001b[1;33m/\u001b[0m\u001b[0msr\u001b[0m \u001b[1;33m<\u001b[0m \u001b[0mmin_duration\u001b[0m\u001b[1;33m/\u001b[0m\u001b[1;36m1000\u001b[0m\u001b[1;33m:\u001b[0m\u001b[1;33m\u001b[0m\u001b[1;33m\u001b[0m\u001b[0m\n\u001b[0m\u001b[0;32m    117\u001b[0m                     \u001b[0mtups\u001b[0m\u001b[1;33m.\u001b[0m\u001b[0mappend\u001b[0m\u001b[1;33m(\u001b[0m\u001b[1;36m0\u001b[0m\u001b[1;33m,\u001b[0m \u001b[0mmins\u001b[0m\u001b[1;33m[\u001b[0m\u001b[0mi\u001b[0m\u001b[1;33m]\u001b[0m \u001b[1;33m)\u001b[0m\u001b[1;33m\u001b[0m\u001b[1;33m\u001b[0m\u001b[0m\n\u001b[0;32m    118\u001b[0m \u001b[1;33m\u001b[0m\u001b[0m\n",
      "\u001b[1;31mTypeError\u001b[0m: 'builtin_function_or_method' object is not subscriptable"
     ]
    }
   ],
   "source": [
    "all_bits = []\n",
    "for segment in segments:\n",
    "    starting = segment[0]\n",
    "    ending = segment[1]\n",
    "    #print(starting,ending)\n",
    "    sec_energy = librosa.feature.rms(np.abs(aud[segment[0]:segment[1]]), hop_length=hop_length)\n",
    "    #plt.plot(sec_energy)\n",
    "    segment_boundaries = Split3(aud[starting:ending], hop_length=hl, sr=sr)\n",
    "    \n",
    "    for bit in segment_boundaries:\n",
    "        x1 = starting + bit[0]\n",
    "        x2 = starting + bit[1]\n",
    "        b = (x1, x2)\n",
    "        all_bits.append(b)\n",
    "#all_bits = Split3(aud, hop_length=hl)\n",
    "#print(all_bits ,\"\\n\",segments,\n",
    "print(\"\\n\", transcription)\n",
    "print(\"\\n transcription phonemes: \", len(phonemes), \"actual bits: \", len(all_bits) )\n",
    "trimmed = clip_from_segments(aud, all_bits)\n",
    "#ipd.Audio(trimmed, rate=sr)\n",
    "c= 10\n",
    "bit = all_bits[c]\n",
    "print(len(all_bits) , len(phonemes), phonemes[c] , all_bits[c] )\n",
    "ipd.Audio(aud[bit[0]:bit[1]], rate=sr)"
   ]
  },
  {
   "cell_type": "code",
   "execution_count": 8,
   "id": "6f34519f",
   "metadata": {},
   "outputs": [
    {
     "data": {
      "text/plain": [
       "array([ 0.00716193,  0.00736288,  0.00651926, ..., -0.00513949,\n",
       "       -0.00376352, -0.00413457], dtype=float32)"
      ]
     },
     "execution_count": 8,
     "metadata": {},
     "output_type": "execute_result"
    }
   ],
   "source": [
    "aud[7650:11340]"
   ]
  },
  {
   "cell_type": "code",
   "execution_count": 6,
   "id": "b9916b1a",
   "metadata": {},
   "outputs": [
    {
     "name": "stdout",
     "output_type": "stream",
     "text": [
      "E:\\Datasets\\Voice\\LibriSpeech\\train-clean-100\\1034\\121119\\1034-121119-0066.flac 0 101\n",
      "next E:\\Datasets\\Voice\\LibriSpeech\\train-clean-100\\1034\\121119\\1034-121119-0074.flac\n"
     ]
    },
    {
     "ename": "KeyboardInterrupt",
     "evalue": "",
     "output_type": "error",
     "traceback": [
      "\u001b[1;31m---------------------------------------------------------------------------\u001b[0m",
      "\u001b[1;31mKeyboardInterrupt\u001b[0m                         Traceback (most recent call last)",
      "\u001b[1;32m<ipython-input-6-332ef94a48a7>\u001b[0m in \u001b[0;36m<module>\u001b[1;34m\u001b[0m\n\u001b[0;32m      2\u001b[0m \u001b[0mcounter\u001b[0m \u001b[1;33m=\u001b[0m \u001b[1;36m0\u001b[0m\u001b[1;33m\u001b[0m\u001b[1;33m\u001b[0m\u001b[0m\n\u001b[0;32m      3\u001b[0m \u001b[0mx\u001b[0m\u001b[1;33m=\u001b[0m \u001b[0mexact\u001b[0m\u001b[1;33m[\u001b[0m\u001b[0mcounter\u001b[0m\u001b[1;33m]\u001b[0m\u001b[1;33m\u001b[0m\u001b[1;33m\u001b[0m\u001b[0m\n\u001b[1;32m----> 4\u001b[1;33m \u001b[1;32mwhile\u001b[0m \u001b[0mlen\u001b[0m\u001b[1;33m(\u001b[0m\u001b[0mphoneme_sections\u001b[0m\u001b[1;33m)\u001b[0m \u001b[1;33m==\u001b[0m\u001b[1;36m0\u001b[0m\u001b[1;33m:\u001b[0m\u001b[1;33m\u001b[0m\u001b[1;33m\u001b[0m\u001b[0m\n\u001b[0m\u001b[0;32m      5\u001b[0m     \u001b[0mtranscription\u001b[0m \u001b[1;33m=\u001b[0m \u001b[0mload_clip_transcription\u001b[0m\u001b[1;33m(\u001b[0m\u001b[0mx\u001b[0m\u001b[1;33m)\u001b[0m\u001b[1;33m\u001b[0m\u001b[1;33m\u001b[0m\u001b[0m\n\u001b[0;32m      6\u001b[0m     \u001b[0mphonemes\u001b[0m \u001b[1;33m=\u001b[0m \u001b[0mall_phones_to_array\u001b[0m\u001b[1;33m(\u001b[0m\u001b[0mtranscription\u001b[0m\u001b[1;33m)\u001b[0m\u001b[1;33m\u001b[0m\u001b[1;33m\u001b[0m\u001b[0m\n",
      "\u001b[1;32m<ipython-input-6-332ef94a48a7>\u001b[0m in \u001b[0;36m<module>\u001b[1;34m\u001b[0m\n\u001b[0;32m      2\u001b[0m \u001b[0mcounter\u001b[0m \u001b[1;33m=\u001b[0m \u001b[1;36m0\u001b[0m\u001b[1;33m\u001b[0m\u001b[1;33m\u001b[0m\u001b[0m\n\u001b[0;32m      3\u001b[0m \u001b[0mx\u001b[0m\u001b[1;33m=\u001b[0m \u001b[0mexact\u001b[0m\u001b[1;33m[\u001b[0m\u001b[0mcounter\u001b[0m\u001b[1;33m]\u001b[0m\u001b[1;33m\u001b[0m\u001b[1;33m\u001b[0m\u001b[0m\n\u001b[1;32m----> 4\u001b[1;33m \u001b[1;32mwhile\u001b[0m \u001b[0mlen\u001b[0m\u001b[1;33m(\u001b[0m\u001b[0mphoneme_sections\u001b[0m\u001b[1;33m)\u001b[0m \u001b[1;33m==\u001b[0m\u001b[1;36m0\u001b[0m\u001b[1;33m:\u001b[0m\u001b[1;33m\u001b[0m\u001b[1;33m\u001b[0m\u001b[0m\n\u001b[0m\u001b[0;32m      5\u001b[0m     \u001b[0mtranscription\u001b[0m \u001b[1;33m=\u001b[0m \u001b[0mload_clip_transcription\u001b[0m\u001b[1;33m(\u001b[0m\u001b[0mx\u001b[0m\u001b[1;33m)\u001b[0m\u001b[1;33m\u001b[0m\u001b[1;33m\u001b[0m\u001b[0m\n\u001b[0;32m      6\u001b[0m     \u001b[0mphonemes\u001b[0m \u001b[1;33m=\u001b[0m \u001b[0mall_phones_to_array\u001b[0m\u001b[1;33m(\u001b[0m\u001b[0mtranscription\u001b[0m\u001b[1;33m)\u001b[0m\u001b[1;33m\u001b[0m\u001b[1;33m\u001b[0m\u001b[0m\n",
      "\u001b[1;32m_pydevd_bundle\\pydevd_cython_win32_38_64.pyx\u001b[0m in \u001b[0;36m_pydevd_bundle.pydevd_cython_win32_38_64.SafeCallWrapper.__call__\u001b[1;34m()\u001b[0m\n",
      "\u001b[1;32m_pydevd_bundle\\pydevd_cython_win32_38_64.pyx\u001b[0m in \u001b[0;36m_pydevd_bundle.pydevd_cython_win32_38_64.PyDBFrame.trace_dispatch\u001b[1;34m()\u001b[0m\n",
      "\u001b[1;32m_pydevd_bundle\\pydevd_cython_win32_38_64.pyx\u001b[0m in \u001b[0;36m_pydevd_bundle.pydevd_cython_win32_38_64.PyDBFrame.trace_dispatch\u001b[1;34m()\u001b[0m\n",
      "\u001b[1;32m_pydevd_bundle\\pydevd_cython_win32_38_64.pyx\u001b[0m in \u001b[0;36m_pydevd_bundle.pydevd_cython_win32_38_64.PyDBFrame.trace_dispatch\u001b[1;34m()\u001b[0m\n",
      "\u001b[1;32m_pydevd_bundle\\pydevd_cython_win32_38_64.pyx\u001b[0m in \u001b[0;36m_pydevd_bundle.pydevd_cython_win32_38_64.PyDBFrame.do_wait_suspend\u001b[1;34m()\u001b[0m\n",
      "\u001b[1;32mC:\\Program Files\\JetBrains\\PyCharm 2020.2.3\\plugins\\python\\helpers\\pydev\\pydevd.py\u001b[0m in \u001b[0;36mdo_wait_suspend\u001b[1;34m(self, thread, frame, event, arg, send_suspend_message, is_unhandled_exception)\u001b[0m\n\u001b[0;32m   1139\u001b[0m \u001b[1;33m\u001b[0m\u001b[0m\n\u001b[0;32m   1140\u001b[0m         \u001b[1;32mwith\u001b[0m \u001b[0mself\u001b[0m\u001b[1;33m.\u001b[0m\u001b[0m_threads_suspended_single_notification\u001b[0m\u001b[1;33m.\u001b[0m\u001b[0mnotify_thread_suspended\u001b[0m\u001b[1;33m(\u001b[0m\u001b[0mthread_id\u001b[0m\u001b[1;33m,\u001b[0m \u001b[0mstop_reason\u001b[0m\u001b[1;33m)\u001b[0m\u001b[1;33m:\u001b[0m\u001b[1;33m\u001b[0m\u001b[1;33m\u001b[0m\u001b[0m\n\u001b[1;32m-> 1141\u001b[1;33m             \u001b[0mself\u001b[0m\u001b[1;33m.\u001b[0m\u001b[0m_do_wait_suspend\u001b[0m\u001b[1;33m(\u001b[0m\u001b[0mthread\u001b[0m\u001b[1;33m,\u001b[0m \u001b[0mframe\u001b[0m\u001b[1;33m,\u001b[0m \u001b[0mevent\u001b[0m\u001b[1;33m,\u001b[0m \u001b[0marg\u001b[0m\u001b[1;33m,\u001b[0m \u001b[0msuspend_type\u001b[0m\u001b[1;33m,\u001b[0m \u001b[0mfrom_this_thread\u001b[0m\u001b[1;33m)\u001b[0m\u001b[1;33m\u001b[0m\u001b[1;33m\u001b[0m\u001b[0m\n\u001b[0m\u001b[0;32m   1142\u001b[0m \u001b[1;33m\u001b[0m\u001b[0m\n\u001b[0;32m   1143\u001b[0m     \u001b[1;32mdef\u001b[0m \u001b[0m_do_wait_suspend\u001b[0m\u001b[1;33m(\u001b[0m\u001b[0mself\u001b[0m\u001b[1;33m,\u001b[0m \u001b[0mthread\u001b[0m\u001b[1;33m,\u001b[0m \u001b[0mframe\u001b[0m\u001b[1;33m,\u001b[0m \u001b[0mevent\u001b[0m\u001b[1;33m,\u001b[0m \u001b[0marg\u001b[0m\u001b[1;33m,\u001b[0m \u001b[0msuspend_type\u001b[0m\u001b[1;33m,\u001b[0m \u001b[0mfrom_this_thread\u001b[0m\u001b[1;33m)\u001b[0m\u001b[1;33m:\u001b[0m\u001b[1;33m\u001b[0m\u001b[1;33m\u001b[0m\u001b[0m\n",
      "\u001b[1;32mC:\\Program Files\\JetBrains\\PyCharm 2020.2.3\\plugins\\python\\helpers\\pydev\\pydevd.py\u001b[0m in \u001b[0;36m_do_wait_suspend\u001b[1;34m(self, thread, frame, event, arg, suspend_type, from_this_thread)\u001b[0m\n\u001b[0;32m   1154\u001b[0m \u001b[1;33m\u001b[0m\u001b[0m\n\u001b[0;32m   1155\u001b[0m                 \u001b[0mself\u001b[0m\u001b[1;33m.\u001b[0m\u001b[0mprocess_internal_commands\u001b[0m\u001b[1;33m(\u001b[0m\u001b[1;33m)\u001b[0m\u001b[1;33m\u001b[0m\u001b[1;33m\u001b[0m\u001b[0m\n\u001b[1;32m-> 1156\u001b[1;33m                 \u001b[0mtime\u001b[0m\u001b[1;33m.\u001b[0m\u001b[0msleep\u001b[0m\u001b[1;33m(\u001b[0m\u001b[1;36m0.01\u001b[0m\u001b[1;33m)\u001b[0m\u001b[1;33m\u001b[0m\u001b[1;33m\u001b[0m\u001b[0m\n\u001b[0m\u001b[0;32m   1157\u001b[0m \u001b[1;33m\u001b[0m\u001b[0m\n\u001b[0;32m   1158\u001b[0m         \u001b[0mself\u001b[0m\u001b[1;33m.\u001b[0m\u001b[0mcancel_async_evaluation\u001b[0m\u001b[1;33m(\u001b[0m\u001b[0mget_current_thread_id\u001b[0m\u001b[1;33m(\u001b[0m\u001b[0mthread\u001b[0m\u001b[1;33m)\u001b[0m\u001b[1;33m,\u001b[0m \u001b[0mstr\u001b[0m\u001b[1;33m(\u001b[0m\u001b[0mid\u001b[0m\u001b[1;33m(\u001b[0m\u001b[0mframe\u001b[0m\u001b[1;33m)\u001b[0m\u001b[1;33m)\u001b[0m\u001b[1;33m)\u001b[0m\u001b[1;33m\u001b[0m\u001b[1;33m\u001b[0m\u001b[0m\n",
      "\u001b[1;31mKeyboardInterrupt\u001b[0m: "
     ]
    }
   ],
   "source": [
    "counter = 0\n",
    "x= exact[counter]\n",
    "while len(phoneme_sections) ==0:\n",
    "    transcription = load_clip_transcription(x)\n",
    "    phonemes = all_phones_to_array(transcription)\n",
    "    #scan for parameters\n",
    "    print(x ,counter ,  len(phonemes))\n",
    "    voiced , phoneme_sections, sr = process_clip(x, len(phonemes))\n",
    "    counter +=1  \n",
    "    x= exact[counter]\n",
    "    print(\"next\",x)\n",
    "    \n"
   ]
  },
  {
   "cell_type": "code",
   "execution_count": 5,
   "id": "2b85a25e",
   "metadata": {},
   "outputs": [
    {
     "name": "stdout",
     "output_type": "stream",
     "text": [
      "(255170,) []\n",
      "uː IT SEEMED TO HER AT LAST THAT SHE WOULD DO WELL TO TAKE A BOOK FORMERLY WHEN HEAVY HEARTED SHE HAD BEEN ABLE WITH THE HELP OF SOME WELL CHOSEN VOLUME TO TRANSFER THE SEAT OF CONSCIOUSNESS TO THE ORGAN OF PURE REASON\n"
     ]
    },
    {
     "ename": "IndexError",
     "evalue": "list index out of range",
     "output_type": "error",
     "traceback": [
      "\u001b[1;31m---------------------------------------------------------------------------\u001b[0m",
      "\u001b[1;31mIndexError\u001b[0m                                Traceback (most recent call last)",
      "\u001b[1;32m<ipython-input-5-c0cdae5f580c>\u001b[0m in \u001b[0;36m<module>\u001b[1;34m\u001b[0m\n\u001b[0;32m     13\u001b[0m \u001b[1;33m\u001b[0m\u001b[0m\n\u001b[0;32m     14\u001b[0m \u001b[0mprint\u001b[0m\u001b[1;33m(\u001b[0m\u001b[0mphonemes\u001b[0m\u001b[1;33m[\u001b[0m\u001b[0mselection\u001b[0m\u001b[1;33m]\u001b[0m\u001b[1;33m,\u001b[0m \u001b[0mtranscription\u001b[0m\u001b[1;33m)\u001b[0m\u001b[1;33m\u001b[0m\u001b[1;33m\u001b[0m\u001b[0m\n\u001b[1;32m---> 15\u001b[1;33m \u001b[0mipd\u001b[0m\u001b[1;33m.\u001b[0m\u001b[0mAudio\u001b[0m\u001b[1;33m(\u001b[0m\u001b[0maudio\u001b[0m\u001b[1;33m[\u001b[0m\u001b[1;36m0\u001b[0m\u001b[1;33m]\u001b[0m\u001b[1;33m[\u001b[0m\u001b[0mphoneme_sections\u001b[0m\u001b[1;33m[\u001b[0m\u001b[0mselection\u001b[0m\u001b[1;33m]\u001b[0m\u001b[1;33m[\u001b[0m\u001b[1;36m0\u001b[0m\u001b[1;33m]\u001b[0m\u001b[1;33m-\u001b[0m\u001b[1;36m100\u001b[0m\u001b[1;33m:\u001b[0m\u001b[0mphoneme_sections\u001b[0m\u001b[1;33m[\u001b[0m\u001b[0mselection\u001b[0m\u001b[1;33m]\u001b[0m\u001b[1;33m[\u001b[0m\u001b[1;36m1\u001b[0m\u001b[1;33m]\u001b[0m\u001b[1;33m+\u001b[0m\u001b[1;36m100\u001b[0m\u001b[1;33m]\u001b[0m\u001b[1;33m,\u001b[0m \u001b[0mrate\u001b[0m\u001b[1;33m=\u001b[0m \u001b[0msr\u001b[0m\u001b[1;33m)\u001b[0m\u001b[1;33m\u001b[0m\u001b[1;33m\u001b[0m\u001b[0m\n\u001b[0m\u001b[0;32m     16\u001b[0m \u001b[1;31m#ipd.Audio(audio[0][0:31000],rate=sr)\u001b[0m\u001b[1;33m\u001b[0m\u001b[1;33m\u001b[0m\u001b[1;33m\u001b[0m\u001b[0m\n\u001b[0;32m     17\u001b[0m \u001b[1;31m#audio[phoneme_sections[selection][0]: phoneme_sections[selection][1]]\u001b[0m\u001b[1;33m\u001b[0m\u001b[1;33m\u001b[0m\u001b[1;33m\u001b[0m\u001b[0m\n",
      "\u001b[1;31mIndexError\u001b[0m: list index out of range"
     ]
    }
   ],
   "source": [
    "counter = 2\n",
    "x= exact[counter]\n",
    "transcription = load_clip_transcription(x)\n",
    "phonemes = all_phones_to_array(transcription)\n",
    "#scan for parameters\n",
    "voiced, phoneme_sections, sr = process_clip(x, len(phonemes))\n",
    "len(phoneme_sections) , counter , x\n",
    "audio = librosa.load(x, sr)\n",
    "#phoneme_sections, sr = process_clip(x, len(phonemes))\n",
    "selection = 7\n",
    "print(audio[0].shape, phoneme_sections)# , [phoneme_sections[selection][0]:phoneme_sections[selection][1]])\n",
    "\n",
    "print(phonemes[selection], transcription)\n",
    "ipd.Audio(audio[0][phoneme_sections[selection][0]-100:phoneme_sections[selection][1]+100], rate= sr)\n",
    "#ipd.Audio(audio[0][0:31000],rate=sr)\n",
    "#audio[phoneme_sections[selection][0]: phoneme_sections[selection][1]]\n",
    "#phoneme_sections= []\n",
    "#len(audio[0]), sr , x , transcription , len(phonemes)"
   ]
  },
  {
   "cell_type": "code",
   "execution_count": null,
   "id": "a7f7122a",
   "metadata": {},
   "outputs": [],
   "source": [
    "#clip_address = known_clips[22]\n",
    "counter = 0 \n",
    "exact = []\n",
    "for x in known_clips:\n",
    "    \n",
    "    transcription = load_clip_transcription(x)\n",
    "    phonemes_in_clip_transcription = all_phones_to_array(transcription)\n",
    "    \n",
    "    # not all words are in the dictionary \n",
    "    audio = load_clip(x, sr)\n",
    "    segments = split_into_segments(audio,hop_length, frame_length, sr, min_voiced_duration_ms, energy_threshold)\n",
    "    ##clip_from_segments(segments)\n",
    "    phoneme_sections = all_phoneme_Sections_in_clip(audio, segments, sr, frame_length, hop_length, min_duration)\n",
    "    #print('clip subdivisions: ',len(phoneme_sections), ' transcription phonemes : ' ,len(phonemes_in_clip_transcription))\n",
    "    #print(len(phonemes_in_clip_transcription))\n",
    "    #print(phonemes_in_clip_transcription)\n",
    "    if len(phoneme_sections) ==len(phonemes_in_clip_transcription):\n",
    "        print(counter , x)\n",
    "        exact.append(x)\n",
    "    counter +=1"
   ]
  },
  {
   "cell_type": "code",
   "execution_count": null,
   "id": "34316bf4",
   "metadata": {
    "scrolled": true
   },
   "outputs": [],
   "source": [
    "print(len(exact))\n",
    "#np.save(\"known_clips.npy\", np.array(known_clips))\n",
    "#np.save(\"exact.npy\", np.array(exact))"
   ]
  },
  {
   "cell_type": "code",
   "execution_count": null,
   "id": "d8de1b0f",
   "metadata": {
    "collapsed": true
   },
   "outputs": [],
   "source": [
    "audio = load_clip(known_clips[23], sr)\n",
    "audio.shape\n",
    "ipd.Audio(audio,rate=sr)\n",
    "split_into_segments(audio, hop_length, frame_length, sr, min_voiced_duration_ms, energy_threshold)"
   ]
  },
  {
   "cell_type": "code",
   "execution_count": null,
   "id": "38387f75",
   "metadata": {
    "collapsed": true
   },
   "outputs": [],
   "source": [
    "## segregate clips with all known words in dictionary \n",
    "\n",
    "counter = 0\n",
    "known_clips = []\n",
    "##validate data in dictionary\n",
    "for clip_address in clips:\n",
    "    try:\n",
    "        counter +=1\n",
    "        transcription = load_clip_transcription(clip_address)\n",
    "        phonemes_in_clip_transcription = all_phones_to_array(transcription)\n",
    "        if 'XXXXXX' not in phonemes_in_clip_transcription:\n",
    "            print(counter , clip_address)\n",
    "            known_clips.append(clip_address)\n",
    "        else:\n",
    "            print(counter, \" has unknown words \")\n",
    "    except:\n",
    "          print(\"An exception occurred\")\n",
    "np.save(\"known_clips.npy\", np.array(known_clips))\n",
    "\n",
    "#####################"
   ]
  },
  {
   "cell_type": "code",
   "execution_count": null,
   "id": "e94d5ce3",
   "metadata": {},
   "outputs": [],
   "source": [
    "features = []\n",
    "labels = []\n",
    "for x in exact[0:10]:\n",
    "    #x =exact[0]\n",
    "    audio = load_clip(x,sr)\n",
    "    transcription= load_clip_transcription(x)\n",
    "    phonemes = all_phones_to_array(transcription)\n",
    "    segments = split_into_segments(audio, hop_length, frame_length,sr,min_voiced_duration_ms, energy_threshold)\n",
    "    phoneme_sections = all_phoneme_Sections_in_clip(audio, segments, sr , frame_length, hop_length, min_duration)\n",
    "    for i in range(len(phoneme_sections)):\n",
    "        data =np.array([padding(librosa.feature.mfcc(audio[phoneme_sections[i][0]:phoneme_sections[i][1]],\n",
    "                                                    hop_length=hop_length, sr=sr, n_fft= frame_length),20,60)])\n",
    "        #data.append([mfcc, phonemes[i]])\n",
    "        features.append(data)\n",
    "        labels.append(phonemes[i])\n",
    "        #adf.append(line)\n",
    "    \n",
    "    "
   ]
  },
  {
   "cell_type": "code",
   "execution_count": null,
   "id": "b6bf6997",
   "metadata": {},
   "outputs": [],
   "source": [
    "output = np.array(np.concatenate(features, axis=0))\n",
    "len(labels), len(features) ,features[0].shape,features[1].shape,features[2].shape, features[2].shape\n",
    "#for x in range(len(features)):\n",
    "    #print(features[x].shape , labels[x])\n",
    "features[0].shape[2]\n",
    "output.shape\n",
    "#data_con =np.concatenate(np.array(data))[0]"
   ]
  },
  {
   "cell_type": "code",
   "execution_count": null,
   "id": "12777598",
   "metadata": {},
   "outputs": [],
   "source": [
    "#Split twice to get the validation set\n",
    "X_train, X_test, y_train, y_test = train_test_split(output, np.array(labels), test_size=0.25, random_state=123)\n",
    "X_train, X_val, y_train, y_val = train_test_split(X_train, y_train, test_size=0.25, random_state=123)\n",
    "#Print the shapes\n",
    "X_train.shape, X_test.shape, X_val.shape, len(y_train), len(y_test), len(y_val) "
   ]
  },
  {
   "cell_type": "code",
   "execution_count": null,
   "id": "3cd27f1f",
   "metadata": {},
   "outputs": [],
   "source": [
    "input_shape=(20,60)\n",
    "model = tf.keras.Sequential()\n",
    "#model.add(LSTM(20,input_shape=input_shape))\n",
    "model.add(Dropout(0.2))\n",
    "model.add(Dense(128, activation='relu'))\n",
    "model.add(Dense(64, activation='relu'))\n",
    "model.add(Dropout(0.4))\n",
    "model.add(Dense(48, activation='relu'))\n",
    "model.add(Dropout(0.4))\n",
    "model.add(Dense(24, activation='softmax'))\n",
    "#model.summary()"
   ]
  },
  {
   "cell_type": "code",
   "execution_count": null,
   "id": "7505720a",
   "metadata": {},
   "outputs": [],
   "source": [
    "model.compile(optimizer='adam',loss='SparseCategoricalCrossentropy',metrics=['acc'])"
   ]
  },
  {
   "cell_type": "code",
   "execution_count": null,
   "id": "2e2f2a4a",
   "metadata": {},
   "outputs": [],
   "source": [
    "model.summary()\n"
   ]
  },
  {
   "cell_type": "code",
   "execution_count": null,
   "id": "b5e8b78b",
   "metadata": {
    "scrolled": false
   },
   "outputs": [],
   "source": [
    "model.fit(X_train,y_train,epochs=50 , batch_size=5, validation_data=(X_val,y_val),shuffle=False, verbose=1)"
   ]
  },
  {
   "cell_type": "code",
   "execution_count": null,
   "id": "b92dda40",
   "metadata": {},
   "outputs": [],
   "source": [
    "np.unique(labels)"
   ]
  },
  {
   "cell_type": "code",
   "execution_count": 23,
   "id": "605dbb83",
   "metadata": {},
   "outputs": [],
   "source": [
    "#np.save('raw_audio_new.npy', raw_audio)\n",
    "#np.save('labels_new.npy',labels)\n",
    "#%%\n",
    "with open(\"raw_audio_new.npy\", 'rb') as f:\n",
    "    raw_audio = np.load(f, allow_pickle=True)\n",
    "with open(\"labels_new.npy\", 'rb') as f:\n",
    "    labels = np.load(f, allow_pickle=True)\n",
    "with open(\"unique_phones.npy\", 'rb') as f:\n",
    "    unique_phones = np.load(f, allow_pickle=True)"
   ]
  },
  {
   "cell_type": "code",
   "execution_count": 53,
   "id": "e82c36d3",
   "metadata": {},
   "outputs": [
    {
     "name": "stdout",
     "output_type": "stream",
     "text": [
      "uː\n"
     ]
    },
    {
     "data": {
      "text/html": [
       "\n",
       "                <audio  controls=\"controls\" >\n",
       "                    <source src=\"data:audio/wav;base64,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\" type=\"audio/wav\" />\n",
       "                    Your browser does not support the audio element.\n",
       "                </audio>\n",
       "              "
      ],
      "text/plain": [
       "<IPython.lib.display.Audio object>"
      ]
     },
     "execution_count": 53,
     "metadata": {},
     "output_type": "execute_result"
    }
   ],
   "source": [
    "c=676\n",
    "print(unique_phones[labels[c]])\n",
    "ipd.Audio(raw_audio[c],rate =22000)"
   ]
  },
  {
   "cell_type": "code",
   "execution_count": 18,
   "id": "678ae024",
   "metadata": {},
   "outputs": [
    {
     "data": {
      "text/plain": [
       "(3411,)"
      ]
     },
     "execution_count": 18,
     "metadata": {},
     "output_type": "execute_result"
    }
   ],
   "source": [
    "raw_audio.shape"
   ]
  },
  {
   "cell_type": "code",
   "execution_count": null,
   "id": "5b1a85e8",
   "metadata": {},
   "outputs": [],
   "source": []
  }
 ],
 "metadata": {
  "kernelspec": {
   "display_name": "Python 3",
   "language": "python",
   "name": "python3"
  },
  "language_info": {
   "codemirror_mode": {
    "name": "ipython",
    "version": 3
   },
   "file_extension": ".py",
   "mimetype": "text/x-python",
   "name": "python",
   "nbconvert_exporter": "python",
   "pygments_lexer": "ipython3",
   "version": "3.8.8"
  }
 },
 "nbformat": 4,
 "nbformat_minor": 5
}
