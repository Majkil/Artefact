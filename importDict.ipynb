{
 "cells": [
  {
   "cell_type": "code",
   "execution_count": 1,
   "id": "98429e16",
   "metadata": {},
   "outputs": [],
   "source": [
    "import os\n",
    "from  elasticsearch import Elasticsearch\n",
    "import glob\n",
    "import pandas as pd\n",
    "from py_linq import Enumerable\n",
    "import json\n",
    "import re\n",
    "\n",
    "\n"
   ]
  },
  {
   "source": [
    "path= r\"C:/Users/nerdi/python/dict/\""
   ],
   "cell_type": "code",
   "metadata": {},
   "execution_count": 4,
   "outputs": []
  },
  {
   "cell_type": "code",
   "execution_count": 5,
   "id": "a8343c23",
   "metadata": {},
   "outputs": [],
   "source": [
    "es = Elasticsearch()"
   ]
  },
  {
   "source": [
    "index=\"ipa_dict\""
   ],
   "cell_type": "code",
   "metadata": {},
   "execution_count": null,
   "outputs": []
  },
  {
   "cell_type": "code",
   "execution_count": null,
   "id": "9a881b45",
   "metadata": {},
   "outputs": [],
   "source": [
    "allstuff= []"
   ]
  },
  {
   "cell_type": "code",
   "execution_count": null,
   "id": "0cf3f444",
   "metadata": {},
   "outputs": [],
   "source": [
    "mapping={\n",
    "    \"mappings\":{\n",
    "        \"properties\":{\n",
    "            \"phones\":{\n",
    "                \"type\": \"text\"\n",
    "            },\n",
    "            \"word\":{\n",
    "                \"type\":\"keyword\"\n",
    "            }\n",
    "        }\n",
    "    }\n",
    "}"
   ]
  },
  {
   "cell_type": "code",
   "execution_count": null,
   "id": "40fae6b7",
   "metadata": {},
   "outputs": [],
   "source": [
    "#run only once\n",
    "es.indices.create(index=index ,ignore= 400)"
   ]
  },
  {
   "cell_type": "code",
   "execution_count": null,
   "id": "05dbb803",
   "metadata": {},
   "outputs": [],
   "source": [
    "files =os.listdir(path)"
   ]
  },
  {
   "cell_type": "code",
   "execution_count": null,
   "id": "414a5a54",
   "metadata": {},
   "outputs": [],
   "source": [
    "for f in files:\n",
    "    dataTemp = pd.read_csv(path+'\\\\'+f, sep=\"\\t\", header= None)\n",
    "    dataTemp['locale'] = f[:-4]\n",
    "    #pd.concat(allstuff, ignore_index=True)\n",
    "    allstuff.append(dataTemp)\n",
    "    "
   ]
  },
  {
   "cell_type": "code",
   "execution_count": null,
   "id": "69567f09",
   "metadata": {},
   "outputs": [],
   "source": [
    "allstuff = pd.concat(allstuff, ignore_index=True)   "
   ]
  },
  {
   "cell_type": "code",
   "execution_count": null,
   "id": "a70a0744",
   "metadata": {},
   "outputs": [],
   "source": [
    "## Elastic Query building \n",
    "def search_in_dict(word):\n",
    "    qs= {\n",
    "          \"query\": {\n",
    "            \"bool\": {\n",
    "              \"should\": [\n",
    "                {\n",
    "                  \"query_string\": {\n",
    "                    \"query\": word\n",
    "                  }\n",
    "                }\n",
    "              ]\n",
    "            }\n",
    "          }\n",
    "        }\n",
    "    resp  = es.search(index=index, \n",
    "                  body=qs\n",
    "                 )\n",
    "    if resp:\n",
    "        #print(resp[\"hits\"][\"hits\"])\n",
    "        return resp[\"hits\"][\"hits\"]\n",
    "    else:\n",
    "        print(\"nothing found\")\n",
    "        return False"
   ]
  },
  {
   "cell_type": "code",
   "execution_count": null,
   "id": "febaa6ae",
   "metadata": {},
   "outputs": [],
   "source": [
    "def insert_new(nWord, nLocale, nPhones):\n",
    "    print(\"inserting\")\n",
    "    doc = {\n",
    "    'word': nWord,\n",
    "    'phones':[nPhones],\n",
    "    'locales':[\n",
    "        { nLocale: nPhones}    \n",
    "    ]}\n",
    "    print(doc)\n",
    "    res = es.index(index=index, body=doc)\n",
    "    print(\"inserted\",res)\n",
    "    \n"
   ]
  },
  {
   "cell_type": "code",
   "execution_count": null,
   "id": "9bb85c46",
   "metadata": {},
   "outputs": [],
   "source": [
    "def get_next_key(doc, key):\n",
    "    new_key = key\n",
    "    next_var = 1\n",
    "    exists = False\n",
    "    for x in doc[\"locales\"]:\n",
    "        if key in x.keys():\n",
    "            exists = True\n",
    "    if not exists:\n",
    "        return key\n",
    "    try:\n",
    "        current_var = int(re.search(r'\\d+', key).group())\n",
    "        #print(current_var)\n",
    "        next_var = current_var + 1\n",
    "        new_key = key.removesuffix(str(current_var)) + str(next_var)\n",
    "    except:\n",
    "        new_key = key + str(next_var)\n",
    "\n",
    "    for x in doc[\"phones\"]:\n",
    "        if key in x.keys():\n",
    "            new_key = get_next_key(doc, new_key)\n",
    "    return new_key\n"
   ]
  },
  {
   "cell_type": "code",
   "execution_count": null,
   "id": "661a9978",
   "metadata": {},
   "outputs": [],
   "source": [
    "def update_existing(_currentModel, _locale, _phones):\n",
    "    print(\"updating\")\n",
    "    doc = _currentModel[\"_source\"]\n",
    "    print(doc)\n",
    "    for x in doc[\"phones\"]:\n",
    "        if x[0] ==phones:\n",
    "            return\n",
    "        print (\"x \", x[0])\n",
    "        for y in x.keys():\n",
    "            print(\"y\", y)\n",
    "            if y == _phones:\n",
    "                return                \n",
    "  \n",
    "    _locale = get_next_key(doc, _locale)\n",
    "    doc[\"phones\"].append(_phones)   \n",
    "    doc[\"locales\"].append({_locale:_phones}) \n",
    "    #print(doc)    \n",
    "    res = es.index(index=index, id=_currentModel[\"_id\"], body=doc)"
   ]
  },
  {
   "cell_type": "code",
   "execution_count": null,
   "id": "897be609",
   "metadata": {},
   "outputs": [],
   "source": [
    "#for every word in df\n",
    "    # set word to lower\n",
    "def insert_or_update(w):\n",
    "    try:\n",
    "        nWord = w[0].lower()\n",
    "        nPhones = w[1]\n",
    "        nPhones = nPhones.removesuffix('/')\n",
    "        nPhones = nPhones.removeprefix('/')\n",
    "        nLocale = w[\"locale\"]\n",
    "        \n",
    "        hits = search_in_dict(nWord)\n",
    "        if hits:\n",
    "            for x in hits:\n",
    "                if x[\"_source\"][\"word\"] == nWord:\n",
    "                    update_existing(x, nLocale, nPhones)\n",
    "                    # update not insert\n",
    "                    found = True\n",
    "                    break\n",
    "        else:\n",
    "            insert_new(nWord, nLocale, nPhones)\n",
    "    except:\n",
    "        print(\"error\",w)\n"
   ]
  },
  {
   "cell_type": "code",
   "execution_count": null,
   "id": "0faf9217",
   "metadata": {},
   "outputs": [],
   "source": [
    "allstuff"
   ]
  },
  {
   "cell_type": "code",
   "execution_count": null,
   "id": "2e45467c",
   "metadata": {},
   "outputs": [],
   "source": [
    "allstuff.apply(lambda x: insert_or_update(x), axis=1)"
   ]
  },
  {
   "cell_type": "code",
   "execution_count": null,
   "id": "14b32176",
   "metadata": {},
   "outputs": [],
   "source": []
  },
  {
   "cell_type": "code",
   "execution_count": null,
   "id": "1714350e",
   "metadata": {},
   "outputs": [],
   "source": [
    "allstuff[1:2]"
   ]
  },
  {
   "cell_type": "code",
   "execution_count": null,
   "id": "86c34834",
   "metadata": {},
   "outputs": [],
   "source": [
    "single=allstuff[1:2]"
   ]
  },
  {
   "cell_type": "code",
   "execution_count": null,
   "id": "4891f5ec",
   "metadata": {},
   "outputs": [],
   "source": [
    "single[1]"
   ]
  },
  {
   "cell_type": "code",
   "execution_count": null,
   "id": "baf3a2d5",
   "metadata": {},
   "outputs": [],
   "source": [
    "single[0].lower()\n"
   ]
  },
  {
   "cell_type": "code",
   "execution_count": null,
   "id": "cf1bdb7d",
   "metadata": {},
   "outputs": [],
   "source": [
    "insert_or_update(single)"
   ]
  },
  {
   "cell_type": "code",
   "execution_count": null,
   "id": "37232648",
   "metadata": {},
   "outputs": [],
   "source": [
    "type(single)"
   ]
  },
  {
   "cell_type": "code",
   "execution_count": null,
   "id": "16ccd946",
   "metadata": {},
   "outputs": [],
   "source": [
    "asd = str(single[1])"
   ]
  },
  {
   "cell_type": "code",
   "execution_count": null,
   "id": "7b889988",
   "metadata": {},
   "outputs": [],
   "source": [
    "asd"
   ]
  },
  {
   "cell_type": "code",
   "execution_count": null,
   "id": "6ec815a7",
   "metadata": {},
   "outputs": [],
   "source": [
    "asd.lower()"
   ]
  },
  {
   "cell_type": "code",
   "execution_count": null,
   "id": "c0731e0e",
   "metadata": {},
   "outputs": [],
   "source": [
    "asd= asd.removesuffix(\"/\")"
   ]
  },
  {
   "cell_type": "code",
   "execution_count": null,
   "id": "2ae60e82",
   "metadata": {},
   "outputs": [],
   "source": [
    "asd= asd.removeprefix(\"/\")"
   ]
  },
  {
   "cell_type": "code",
   "execution_count": null,
   "id": "9727bcb6",
   "metadata": {},
   "outputs": [],
   "source": [
    "insert_or_update(single)"
   ]
  },
  {
   "cell_type": "code",
   "execution_count": null,
   "id": "4859a525",
   "metadata": {},
   "outputs": [],
   "source": []
  },
  {
   "cell_type": "code",
   "execution_count": null,
   "id": "5a914082",
   "metadata": {},
   "outputs": [],
   "source": [
    "single[1].removesuffix('/')"
   ]
  },
  {
   "cell_type": "code",
   "execution_count": null,
   "id": "d24aab3c",
   "metadata": {},
   "outputs": [],
   "source": [
    "allstuff[0][1:2][1].removesuffix('/')"
   ]
  }
 ],
 "metadata": {
  "kernelspec": {
   "display_name": "Python 3",
   "language": "python",
   "name": "python3"
  }
 },
 "nbformat": 4,
 "nbformat_minor": 5
}